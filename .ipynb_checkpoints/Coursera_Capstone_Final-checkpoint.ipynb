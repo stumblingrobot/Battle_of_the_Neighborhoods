{
 "cells": [
  {
   "cell_type": "markdown",
   "metadata": {},
   "source": [
    "# Coursera Capstone Project Using Seattle Collision Data\n",
    "\n",
    "### This is a Jupyter notebook we will be using to analyze and present findings based on collision data in the city of Seattle"
   ]
  },
  {
   "cell_type": "markdown",
   "metadata": {},
   "source": [
    "# Introduction and Business Understanding\n",
    "\n",
    "## Overview\n",
    "\n",
    "There are more than 10,000 traffic collisions per year involving cars, bicyclists and pedestrians. Understanding the causes of collisions as well as the conditions that impact their severity will help provide insight to officials on how to better allocate resources to help reduce the number and severity of such incidents.\n",
    "\n",
    "Further, a better understanding of the factors that increase the likelihood of collisions and increase the probability of injury or property damage can help with education efforts to help individuals take greater precautions when making travel decisions.\n",
    "\n",
    "## Goals of the Project\n",
    "\n",
    "The goal of the project is to use publicly available data compiled by the Seattle Deport of Transportation (SDOT), to identify feautures in the dataset that yield predictive information on the number and severity of collisions and injuries in Seattle.\n",
    "\n",
    "We will also look to use data visualization tools to communicate this information and provide an overview of the current state of traffic collisions in Seattle."
   ]
  },
  {
   "cell_type": "markdown",
   "metadata": {},
   "source": [
    "# Data Understanding\n",
    "\n",
    "The dataset we are using is *Collisions - All Years* dataset maintained by the SDOT Traffic Management Division's Traffic Records Group.  This dataset includes all types of collisions, including car, bicycle, and pedestrian as provided by the Seattle Police Department in their Traffic Records.\n",
    "\n",
    "The data set contains information on over 194,000 collisions in Seattle over a 15-year period.  The primary attribute we are looking to predict is the severity of the collision as captured by the Severity Code assigned to the collision.  Interestingly, the dataset description provided by SDOT indicates this Severity Code attribute should take values between 0 and 3 (including both 2 and 2b to differential \"injury\" from \"serious injury\"); however, the actual data set only contains the values 1 and 2 for this attribute.  One avenue to explore in a future project is to find additional information on this target attribute.\n",
    "\n",
    "The data includes 37 different features including: day, time, month, lighting conditions, road conditions and weather conditions.\n",
    "\n",
    "A full description of the data can be found at: https://s3.us.cloud-object-storage.appdomain.cloud/cf-courses-data/CognitiveClass/DP0701EN/version-2/Metadata.pdf"
   ]
  },
  {
   "cell_type": "markdown",
   "metadata": {},
   "source": [
    "## Feature Selection\n",
    "\n",
    "The dataset contained a large number of variables, so we decided to focus on only some of the features as the most relevant to predicting accident severity.  The variables we included and their descriptions are in the table below.\n",
    "\n",
    "Feature Name |Description \n",
    ":------------ |:-----------\n",
    "Longitude (X)| Longitude of the accident\n",
    "Latitude (Y) | Latitude of the accident\n",
    "Inattentive Driver (INATTENTIONIND) | If the driver was not paying attention (Y/N)\n",
    "Under the Influence (UNDERINFL) | If the driver was driving under the influence (Y/N)\n",
    "\n",
    "\n"
   ]
  },
  {
   "cell_type": "code",
   "execution_count": null,
   "metadata": {},
   "outputs": [],
   "source": []
  }
 ],
 "metadata": {
  "kernelspec": {
   "display_name": "Python 3",
   "language": "python",
   "name": "python3"
  },
  "language_info": {
   "codemirror_mode": {
    "name": "ipython",
    "version": 3
   },
   "file_extension": ".py",
   "mimetype": "text/x-python",
   "name": "python",
   "nbconvert_exporter": "python",
   "pygments_lexer": "ipython3",
   "version": "3.7.6"
  }
 },
 "nbformat": 4,
 "nbformat_minor": 4
}
