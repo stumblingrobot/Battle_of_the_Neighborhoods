{
 "cells": [
  {
   "cell_type": "markdown",
   "metadata": {},
   "source": [
    "# IBM Data Science Coursera Capstone Final Project - Week 4\n",
    "\n",
    "## 1. Introduction and Business Problem\n",
    "\n",
    "Located on the Pacific Coast of the United States, Seattle is the largest city in Washington State and is one of the fastest-growing cities in the country. This growth is fueled by the enormous job growth at some of the largest technology companies in the world headquartered in the city.  These include Amazon and Microsoft, as well as numerous smaller startups.\n",
    "\n",
    "There are 127 distinct neighborhoods in the city of Seattle spread over an area of more than 140 square miles with a population approaching 725,000 people.  The high wages of many of the cities jobs as well as the substantial population growth make Seattle an ideal place to start a new business.\n",
    "\n",
    "For these reasons, opening a new restaurant in Seattle is an appealing business proposition.  Although there are many steps involved in creating a full business plan for a new restaurant, in this project we'll focus on using the geographic data provided by the FourSquare API to map ideal spots for opening a new Italian restaurant in the city.  Some factors that are important for this new business to thrive are: population density of the surrounding area, areas that have high circulation of people during the day and early evening, as well as finding an area that has some restaurants already but is not oversaturated.  The hope is to find the sweet spot of being a dynamic area that is appealing to visit, but still needs new restaurants and is not overwhelmed by competition.\n",
    "\n",
    "## 2. Data\n",
    "\n",
    "In order to determine the best location for a new Italian restaurant, we make use of the following data:\n",
    "\n",
    "* Neighborhood location data for Seattle, WA.  We make use of data from Zillow for this.\n",
    "* FourSquare API data giving information about the most commonly visited venues in each neighborhood. Using clustering algorithms, we determine the best ways to group these venues.\n",
    "* US Census Bureau population estimates.  The most recent data from the Census is from 2010.\n",
    "\n",
    "We use pandas and numpy to create dataframes that contain all of the population information for each neighborhood."
   ]
  },
  {
   "cell_type": "code",
   "execution_count": null,
   "metadata": {},
   "outputs": [],
   "source": []
  }
 ],
 "metadata": {
  "kernelspec": {
   "display_name": "Python 3",
   "language": "python",
   "name": "python3"
  },
  "language_info": {
   "codemirror_mode": {
    "name": "ipython",
    "version": 3
   },
   "file_extension": ".py",
   "mimetype": "text/x-python",
   "name": "python",
   "nbconvert_exporter": "python",
   "pygments_lexer": "ipython3",
   "version": "3.7.6"
  }
 },
 "nbformat": 4,
 "nbformat_minor": 4
}
